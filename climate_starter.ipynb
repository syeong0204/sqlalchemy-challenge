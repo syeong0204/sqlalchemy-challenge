{
 "cells": [
  {
   "cell_type": "code",
   "execution_count": 4,
   "metadata": {},
   "outputs": [],
   "source": [
    "%matplotlib inline\n",
    "from matplotlib import style\n",
    "style.use('fivethirtyeight')\n",
    "import matplotlib.pyplot as plt"
   ]
  },
  {
   "cell_type": "code",
   "execution_count": 5,
   "metadata": {},
   "outputs": [],
   "source": [
    "import numpy as np\n",
    "import pandas as pd\n",
    "import datetime as dt"
   ]
  },
  {
   "cell_type": "markdown",
   "metadata": {},
   "source": [
    "# Reflect Tables into SQLAlchemy ORM"
   ]
  },
  {
   "cell_type": "code",
   "execution_count": 6,
   "metadata": {},
   "outputs": [],
   "source": [
    "# Python SQL toolkit and Object Relational Mapper\n",
    "import sqlalchemy\n",
    "from sqlalchemy.ext.automap import automap_base\n",
    "from sqlalchemy.orm import Session\n",
    "from sqlalchemy import create_engine, func\n",
    "from datetime import datetime"
   ]
  },
  {
   "cell_type": "code",
   "execution_count": 7,
   "metadata": {},
   "outputs": [],
   "source": [
    "engine = create_engine(\"sqlite:///Resources/hawaii.sqlite\")"
   ]
  },
  {
   "cell_type": "code",
   "execution_count": 8,
   "metadata": {},
   "outputs": [],
   "source": [
    "# reflect an existing database into a new model\n",
    "Base = automap_base()\n",
    "Base.prepare(engine, reflect= True)\n",
    "# reflect the tables"
   ]
  },
  {
   "cell_type": "code",
   "execution_count": 9,
   "metadata": {},
   "outputs": [
    {
     "data": {
      "text/plain": [
       "['measurement', 'station']"
      ]
     },
     "execution_count": 9,
     "metadata": {},
     "output_type": "execute_result"
    }
   ],
   "source": [
    "# View all of the classes that automap found\n",
    "Base.classes.keys()"
   ]
  },
  {
   "cell_type": "code",
   "execution_count": 10,
   "metadata": {},
   "outputs": [],
   "source": [
    "# Save references to each table\n",
    "Measurement = Base.classes.measurement\n",
    "Station = Base.classes.station"
   ]
  },
  {
   "cell_type": "code",
   "execution_count": 11,
   "metadata": {},
   "outputs": [],
   "source": [
    "# Create our session (link) from Python to the DB\n",
    "session = Session(engine)"
   ]
  },
  {
   "cell_type": "markdown",
   "metadata": {},
   "source": [
    "# Exploratory Precipitation Analysis"
   ]
  },
  {
   "cell_type": "markdown",
   "metadata": {},
   "source": [
    "## GRADER PLEASE NOTE\n",
    "\n",
    "* Some of the instructions are different from the original but still adhere to the rubric.\n",
    "* The students get the average precipitation per day instead of every single precipitation value."
   ]
  },
  {
   "cell_type": "code",
   "execution_count": 12,
   "metadata": {},
   "outputs": [
    {
     "data": {
      "text/plain": [
       "('2017-08-23',)"
      ]
     },
     "execution_count": 12,
     "metadata": {},
     "output_type": "execute_result"
    }
   ],
   "source": [
    "# Find the most recent date in the data set.\n",
    "session.query(Measurement.date).order_by(Measurement.date.desc()).first()"
   ]
  },
  {
   "cell_type": "code",
   "execution_count": 13,
   "metadata": {},
   "outputs": [
    {
     "data": {
      "text/plain": [
       "[(1.5549999999999997, '2016-08-24'),\n",
       " (0.07714285714285715, '2016-08-25'),\n",
       " (0.016666666666666666, '2016-08-26'),\n",
       " (0.06399999999999999, '2016-08-27'),\n",
       " (0.5166666666666666, '2016-08-28'),\n",
       " (0.24333333333333332, '2016-08-29'),\n",
       " (0.011666666666666667, '2016-08-30'),\n",
       " (0.6359999999999999, '2016-08-31'),\n",
       " (0.006, '2016-09-01'),\n",
       " (0.05, '2016-09-02'),\n",
       " (0.254, '2016-09-03'),\n",
       " (0.276, '2016-09-04'),\n",
       " (0.08499999999999999, '2016-09-05'),\n",
       " (0.246, '2016-09-06'),\n",
       " (0.3333333333333333, '2016-09-07'),\n",
       " (0.07666666666666667, '2016-09-08'),\n",
       " (0.17833333333333332, '2016-09-09'),\n",
       " (0.27999999999999997, '2016-09-10'),\n",
       " (0.25, '2016-09-11'),\n",
       " (0.308, '2016-09-12'),\n",
       " (0.45166666666666666, '2016-09-13'),\n",
       " (2.3800000000000003, '2016-09-14'),\n",
       " (0.8266666666666667, '2016-09-15'),\n",
       " (0.11714285714285715, '2016-09-16'),\n",
       " (0.13599999999999998, '2016-09-17'),\n",
       " (0.10600000000000001, '2016-09-18'),\n",
       " (0.064, '2016-09-19'),\n",
       " (0.14714285714285716, '2016-09-20'),\n",
       " (0.19499999999999998, '2016-09-21'),\n",
       " (0.2057142857142857, '2016-09-22'),\n",
       " (0.22428571428571428, '2016-09-23'),\n",
       " (0.04666666666666667, '2016-09-24'),\n",
       " (0.015, '2016-09-25'),\n",
       " (0.2783333333333333, '2016-09-26'),\n",
       " (0.22666666666666666, '2016-09-27'),\n",
       " (0.018571428571428572, '2016-09-28'),\n",
       " (0.42714285714285716, '2016-09-29'),\n",
       " (0.19166666666666665, '2016-09-30'),\n",
       " (0.2416666666666667, '2016-10-01'),\n",
       " (0.12, '2016-10-02'),\n",
       " (0.115, '2016-10-03'),\n",
       " (0.5816666666666667, '2016-10-04'),\n",
       " (0.1366666666666667, '2016-10-05'),\n",
       " (0.022857142857142857, '2016-10-06'),\n",
       " (0.0016666666666666668, '2016-10-07'),\n",
       " (0.008, '2016-10-08'),\n",
       " (0.0, '2016-10-09'),\n",
       " (0.0, '2016-10-10'),\n",
       " (0.11499999999999999, '2016-10-11'),\n",
       " (0.013333333333333334, '2016-10-12'),\n",
       " (0.013333333333333334, '2016-10-13'),\n",
       " (0.0, '2016-10-14'),\n",
       " (0.065, '2016-10-15'),\n",
       " (0.0, '2016-10-16'),\n",
       " (0.11000000000000001, '2016-10-17'),\n",
       " (0.09999999999999999, '2016-10-18'),\n",
       " (0.028333333333333332, '2016-10-19'),\n",
       " (0.202, '2016-10-20'),\n",
       " (0.064, '2016-10-21'),\n",
       " (0.354, '2016-10-22'),\n",
       " (0.055999999999999994, '2016-10-23'),\n",
       " (0.13166666666666665, '2016-10-24'),\n",
       " (0.15714285714285717, '2016-10-25'),\n",
       " (0.04833333333333334, '2016-10-26'),\n",
       " (0.31, '2016-10-27'),\n",
       " (0.09500000000000001, '2016-10-28'),\n",
       " (0.10666666666666667, '2016-10-29'),\n",
       " (0.26499999999999996, '2016-10-30'),\n",
       " (0.26833333333333337, '2016-10-31'),\n",
       " (0.035, '2016-11-01'),\n",
       " (0.006666666666666667, '2016-11-02'),\n",
       " (0.0033333333333333335, '2016-11-03'),\n",
       " (0.01, '2016-11-04'),\n",
       " (0.075, '2016-11-05'),\n",
       " (0.013333333333333334, '2016-11-06'),\n",
       " (0.03, '2016-11-07'),\n",
       " (0.18666666666666668, '2016-11-08'),\n",
       " (0.05714285714285714, '2016-11-09'),\n",
       " (0.0016666666666666668, '2016-11-10'),\n",
       " (0.0, '2016-11-11'),\n",
       " (0.0, '2016-11-12'),\n",
       " (0.0, '2016-11-13'),\n",
       " (0.02142857142857143, '2016-11-14'),\n",
       " (0.008333333333333333, '2016-11-15'),\n",
       " (0.25666666666666665, '2016-11-16'),\n",
       " (0.01, '2016-11-17'),\n",
       " (0.0075, '2016-11-18'),\n",
       " (0.095, '2016-11-19'),\n",
       " (0.23750000000000002, '2016-11-20'),\n",
       " (0.616, '2016-11-21'),\n",
       " (1.002, '2016-11-22'),\n",
       " (0.134, '2016-11-23'),\n",
       " (0.296, '2016-11-24'),\n",
       " (0.264, '2016-11-25'),\n",
       " (0.085, '2016-11-26'),\n",
       " (0.09166666666666667, '2016-11-27'),\n",
       " (0.12, '2016-11-28'),\n",
       " (0.07166666666666667, '2016-11-29'),\n",
       " (0.17666666666666667, '2016-11-30'),\n",
       " (0.295, '2016-12-01'),\n",
       " (0.3933333333333333, '2016-12-02'),\n",
       " (0.45166666666666666, '2016-12-03'),\n",
       " (0.13333333333333333, '2016-12-04'),\n",
       " (0.54, '2016-12-05'),\n",
       " (0.008, '2016-12-06'),\n",
       " (0.076, '2016-12-07'),\n",
       " (0.06571428571428573, '2016-12-08'),\n",
       " (0.37, '2016-12-09'),\n",
       " (0.026000000000000002, '2016-12-10'),\n",
       " (0.05, '2016-12-11'),\n",
       " (0.008333333333333333, '2016-12-12'),\n",
       " (0.12833333333333333, '2016-12-13'),\n",
       " (0.25, '2016-12-14'),\n",
       " (0.043333333333333335, '2016-12-15'),\n",
       " (0.006666666666666667, '2016-12-16'),\n",
       " (0.07, '2016-12-17'),\n",
       " (0.178, '2016-12-18'),\n",
       " (0.07, '2016-12-19'),\n",
       " (0.005, '2016-12-20'),\n",
       " (0.1285714285714286, '2016-12-21'),\n",
       " (0.4116666666666666, '2016-12-22'),\n",
       " (0.205, '2016-12-23'),\n",
       " (0.27, '2016-12-24'),\n",
       " (0.086, '2016-12-25'),\n",
       " (0.40800000000000003, '2016-12-26'),\n",
       " (0.04, '2016-12-27'),\n",
       " (0.06833333333333334, '2016-12-28'),\n",
       " (0.39666666666666667, '2016-12-29'),\n",
       " (0.5583333333333333, '2016-12-30'),\n",
       " (0.42800000000000005, '2016-12-31'),\n",
       " (0.06999999999999999, '2017-01-01'),\n",
       " (0.004, '2017-01-02'),\n",
       " (0.0, '2017-01-03'),\n",
       " (0.03, '2017-01-04'),\n",
       " (0.15833333333333333, '2017-01-05'),\n",
       " (0.13333333333333333, '2017-01-06'),\n",
       " (0.01, '2017-01-07'),\n",
       " (0.01, '2017-01-08'),\n",
       " (0.0, '2017-01-09'),\n",
       " (0.0, '2017-01-10'),\n",
       " (0.0, '2017-01-11'),\n",
       " (0.0, '2017-01-12'),\n",
       " (0.0, '2017-01-13'),\n",
       " (0.002, '2017-01-14'),\n",
       " (0.0025, '2017-01-15'),\n",
       " (0.0, '2017-01-16'),\n",
       " (0.0, '2017-01-17'),\n",
       " (0.011666666666666667, '2017-01-18'),\n",
       " (0.0033333333333333335, '2017-01-19'),\n",
       " (0.0, '2017-01-20'),\n",
       " (0.04666666666666666, '2017-01-21'),\n",
       " (0.20400000000000001, '2017-01-22'),\n",
       " (0.188, '2017-01-23'),\n",
       " (0.45, '2017-01-24'),\n",
       " (0.716, '2017-01-25'),\n",
       " (0.015714285714285715, '2017-01-26'),\n",
       " (0.008571428571428572, '2017-01-27'),\n",
       " (0.028000000000000004, '2017-01-28'),\n",
       " (0.2475, '2017-01-29'),\n",
       " (0.008333333333333333, '2017-01-30'),\n",
       " (0.0, '2017-01-31'),\n",
       " (0.0, '2017-02-01'),\n",
       " (0.0, '2017-02-02'),\n",
       " (0.0, '2017-02-03'),\n",
       " (0.0, '2017-02-04'),\n",
       " (0.0, '2017-02-05'),\n",
       " (0.06333333333333334, '2017-02-06'),\n",
       " (1.0571428571428572, '2017-02-07'),\n",
       " (0.1542857142857143, '2017-02-08'),\n",
       " (0.002857142857142857, '2017-02-09'),\n",
       " (0.0, '2017-02-10'),\n",
       " (1.866666666666667, '2017-02-11'),\n",
       " (1.7466666666666668, '2017-02-12'),\n",
       " (0.4866666666666666, '2017-02-13'),\n",
       " (0.0016666666666666668, '2017-02-14'),\n",
       " (0.016, '2017-02-15'),\n",
       " (0.36999999999999994, '2017-02-16'),\n",
       " (0.17500000000000004, '2017-02-17'),\n",
       " (0.0025, '2017-02-18'),\n",
       " (0.0475, '2017-02-19'),\n",
       " (0.0, '2017-02-20'),\n",
       " (0.026000000000000002, '2017-02-21'),\n",
       " (0.13000000000000003, '2017-02-22'),\n",
       " (0.0014285714285714286, '2017-02-23'),\n",
       " (0.0, '2017-02-24'),\n",
       " (0.0375, '2017-02-25'),\n",
       " (0.0, '2017-02-26'),\n",
       " (0.0, '2017-02-27'),\n",
       " (0.13666666666666666, '2017-02-28'),\n",
       " (1.6600000000000001, '2017-03-01'),\n",
       " (1.0933333333333333, '2017-03-02'),\n",
       " (0.37166666666666665, '2017-03-03'),\n",
       " (0.0, '2017-03-04'),\n",
       " (0.3025, '2017-03-05'),\n",
       " (0.135, '2017-03-06'),\n",
       " (0.0, '2017-03-07'),\n",
       " (0.0, '2017-03-08'),\n",
       " (0.3266666666666667, '2017-03-09'),\n",
       " (0.04142857142857143, '2017-03-10'),\n",
       " (0.008, '2017-03-11'),\n",
       " (0.0, '2017-03-12'),\n",
       " (0.0, '2017-03-13'),\n",
       " (0.008571428571428572, '2017-03-14'),\n",
       " (0.01, '2017-03-15'),\n",
       " (0.0, '2017-03-16'),\n",
       " (0.144, '2017-03-17'),\n",
       " (0.0, '2017-03-18'),\n",
       " (0.0, '2017-03-19'),\n",
       " (0.004, '2017-03-20'),\n",
       " (0.015, '2017-03-21'),\n",
       " (0.0, '2017-03-22'),\n",
       " (0.008333333333333333, '2017-03-23'),\n",
       " (0.18833333333333335, '2017-03-24'),\n",
       " (0.394, '2017-03-25'),\n",
       " (0.0, '2017-03-26'),\n",
       " (0.002, '2017-03-27'),\n",
       " (0.11833333333333335, '2017-03-28'),\n",
       " (0.03166666666666667, '2017-03-29'),\n",
       " (0.03, '2017-03-30'),\n",
       " (0.0016666666666666668, '2017-03-31'),\n",
       " (0.06833333333333334, '2017-04-01'),\n",
       " (0.0, '2017-04-02'),\n",
       " (0.11, '2017-04-03'),\n",
       " (0.02142857142857143, '2017-04-04'),\n",
       " (0.09428571428571429, '2017-04-05'),\n",
       " (0.008571428571428572, '2017-04-06'),\n",
       " (0.0, '2017-04-07'),\n",
       " (0.0, '2017-04-08'),\n",
       " (0.0, '2017-04-09'),\n",
       " (0.0033333333333333335, '2017-04-10'),\n",
       " (0.07833333333333332, '2017-04-11'),\n",
       " (0.18000000000000002, '2017-04-12'),\n",
       " (0.18166666666666667, '2017-04-13'),\n",
       " (1.1199999999999999, '2017-04-14'),\n",
       " (0.34800000000000003, '2017-04-15'),\n",
       " (0.21400000000000002, '2017-04-16'),\n",
       " (0.6140000000000001, '2017-04-17'),\n",
       " (0.48, '2017-04-18'),\n",
       " (0.03333333333333333, '2017-04-19'),\n",
       " (0.13, '2017-04-20'),\n",
       " (1.3966666666666667, '2017-04-21'),\n",
       " (0.9920000000000002, '2017-04-22'),\n",
       " (0.11499999999999999, '2017-04-23'),\n",
       " (0.015000000000000001, '2017-04-24'),\n",
       " (0.0, '2017-04-25'),\n",
       " (0.065, '2017-04-26'),\n",
       " (0.06999999999999999, '2017-04-27'),\n",
       " (0.7066666666666667, '2017-04-28'),\n",
       " (1.3399999999999999, '2017-04-29'),\n",
       " (1.07, '2017-04-30'),\n",
       " (0.135, '2017-05-01'),\n",
       " (0.008333333333333333, '2017-05-02'),\n",
       " (0.006, '2017-05-03'),\n",
       " (0.016, '2017-05-04'),\n",
       " (0.06333333333333334, '2017-05-05'),\n",
       " (0.01, '2017-05-06'),\n",
       " (0.024, '2017-05-07'),\n",
       " (0.5016666666666666, '2017-05-08'),\n",
       " (0.9260000000000002, '2017-05-09'),\n",
       " (0.14333333333333334, '2017-05-10'),\n",
       " (0.12, '2017-05-11'),\n",
       " (0.032, '2017-05-12'),\n",
       " (0.048, '2017-05-13'),\n",
       " (0.244, '2017-05-14'),\n",
       " (0.176, '2017-05-15'),\n",
       " (0.06999999999999999, '2017-05-16'),\n",
       " (0.025000000000000005, '2017-05-17'),\n",
       " (0.14166666666666666, '2017-05-18'),\n",
       " (0.01, '2017-05-19'),\n",
       " (0.0075, '2017-05-20'),\n",
       " (0.002, '2017-05-21'),\n",
       " (0.072, '2017-05-22'),\n",
       " (0.11833333333333333, '2017-05-23'),\n",
       " (0.6483333333333333, '2017-05-24'),\n",
       " (0.37000000000000005, '2017-05-25'),\n",
       " (0.004, '2017-05-26'),\n",
       " (0.085, '2017-05-27'),\n",
       " (0.06833333333333334, '2017-05-28'),\n",
       " (0.084, '2017-05-29'),\n",
       " (0.346, '2017-05-30'),\n",
       " (0.074, '2017-05-31'),\n",
       " (0.006666666666666667, '2017-06-01'),\n",
       " (0.06799999999999999, '2017-06-02'),\n",
       " (0.122, '2017-06-03'),\n",
       " (0.19166666666666665, '2017-06-04'),\n",
       " (0.013333333333333334, '2017-06-05'),\n",
       " (0.0, '2017-06-06'),\n",
       " (0.0016666666666666668, '2017-06-07'),\n",
       " (0.005, '2017-06-08'),\n",
       " (0.008, '2017-06-09'),\n",
       " (0.306, '2017-06-10'),\n",
       " (0.35833333333333334, '2017-06-11'),\n",
       " (0.2916666666666667, '2017-06-12'),\n",
       " (0.22999999999999998, '2017-06-13'),\n",
       " (0.26166666666666666, '2017-06-14'),\n",
       " (0.45166666666666666, '2017-06-15'),\n",
       " (0.03333333333333333, '2017-06-16'),\n",
       " (0.09000000000000001, '2017-06-17'),\n",
       " (0.23666666666666666, '2017-06-18'),\n",
       " (0.12166666666666666, '2017-06-19'),\n",
       " (0.11000000000000001, '2017-06-20'),\n",
       " (0.1275, '2017-06-21'),\n",
       " (0.07333333333333335, '2017-06-22'),\n",
       " (0.11166666666666665, '2017-06-23'),\n",
       " (0.128, '2017-06-24'),\n",
       " (0.12, '2017-06-25'),\n",
       " (0.02, '2017-06-26'),\n",
       " (0.018333333333333333, '2017-06-27'),\n",
       " (0.005, '2017-06-28'),\n",
       " (0.011666666666666667, '2017-06-29'),\n",
       " (0.07428571428571429, '2017-06-30'),\n",
       " (0.065, '2017-07-01'),\n",
       " (0.18, '2017-07-02'),\n",
       " (0.148, '2017-07-03'),\n",
       " (0.037500000000000006, '2017-07-04'),\n",
       " (0.0, '2017-07-05'),\n",
       " (0.004, '2017-07-06'),\n",
       " (0.1, '2017-07-07'),\n",
       " (0.016666666666666666, '2017-07-08'),\n",
       " (0.03333333333333333, '2017-07-09'),\n",
       " (0.006666666666666667, '2017-07-10'),\n",
       " (0.005, '2017-07-11'),\n",
       " (0.060000000000000005, '2017-07-12'),\n",
       " (0.3016666666666667, '2017-07-13'),\n",
       " (0.15833333333333335, '2017-07-14'),\n",
       " (0.03166666666666667, '2017-07-15'),\n",
       " (0.135, '2017-07-16'),\n",
       " (0.15166666666666667, '2017-07-17'),\n",
       " (0.3614285714285714, '2017-07-18'),\n",
       " (0.06833333333333334, '2017-07-19'),\n",
       " (0.17714285714285713, '2017-07-20'),\n",
       " (0.018571428571428572, '2017-07-21'),\n",
       " (0.7366666666666667, '2017-07-22'),\n",
       " (0.22600000000000003, '2017-07-23'),\n",
       " (0.6539999999999999, '2017-07-24'),\n",
       " (0.08714285714285715, '2017-07-25'),\n",
       " (0.08333333333333333, '2017-07-26'),\n",
       " (0.0016666666666666668, '2017-07-27'),\n",
       " (0.11, '2017-07-28'),\n",
       " (0.10166666666666667, '2017-07-29'),\n",
       " (0.06, '2017-07-30'),\n",
       " (0.0, '2017-07-31'),\n",
       " (0.04666666666666666, '2017-08-01'),\n",
       " (0.075, '2017-08-02'),\n",
       " (0.017499999999999998, '2017-08-03'),\n",
       " (0.015, '2017-08-04'),\n",
       " (0.03, '2017-08-05'),\n",
       " (0.0, '2017-08-06'),\n",
       " (0.0125, '2017-08-07'),\n",
       " (0.11000000000000001, '2017-08-08'),\n",
       " (0.049999999999999996, '2017-08-09'),\n",
       " (0.0175, '2017-08-10'),\n",
       " (0.0, '2017-08-11'),\n",
       " (0.04666666666666667, '2017-08-12'),\n",
       " (0.0, '2017-08-13'),\n",
       " (0.062, '2017-08-14'),\n",
       " (0.164, '2017-08-15'),\n",
       " (0.1525, '2017-08-16'),\n",
       " (0.0475, '2017-08-17'),\n",
       " (0.02, '2017-08-18'),\n",
       " (0.03, '2017-08-19'),\n",
       " (0.005, '2017-08-20'),\n",
       " (0.19333333333333336, '2017-08-21'),\n",
       " (0.16666666666666666, '2017-08-22'),\n",
       " (0.1325, '2017-08-23')]"
      ]
     },
     "execution_count": 13,
     "metadata": {},
     "output_type": "execute_result"
    }
   ],
   "source": [
    "# Using this date, find the average precipitation per day\n",
    "# for the preceding 12 months of data sorted by ascending date.\n",
    "\n",
    "dt_string = '8/23/2017'\n",
    "recent_time = datetime.strptime(dt_string, \"%m/%d/%Y\")\n",
    "dt1_string = '8/23/2016'\n",
    "begin_time = datetime.strptime(dt1_string, '%m/%d/%Y')\n",
    "\n",
    "prcp = session.query(func.avg(Measurement.prcp), Measurement.date).\\\n",
    "filter(Measurement.date <= recent_time).\\\n",
    "filter(Measurement.date >= begin_time).group_by(Measurement.date).order_by(Measurement.date).all()\n",
    "prcp"
   ]
  },
  {
   "cell_type": "code",
   "execution_count": 14,
   "metadata": {},
   "outputs": [
    {
     "data": {
      "text/html": [
       "<div>\n",
       "<style scoped>\n",
       "    .dataframe tbody tr th:only-of-type {\n",
       "        vertical-align: middle;\n",
       "    }\n",
       "\n",
       "    .dataframe tbody tr th {\n",
       "        vertical-align: top;\n",
       "    }\n",
       "\n",
       "    .dataframe thead th {\n",
       "        text-align: right;\n",
       "    }\n",
       "</style>\n",
       "<table border=\"1\" class=\"dataframe\">\n",
       "  <thead>\n",
       "    <tr style=\"text-align: right;\">\n",
       "      <th></th>\n",
       "      <th>prcp</th>\n",
       "      <th>Date</th>\n",
       "    </tr>\n",
       "  </thead>\n",
       "  <tbody>\n",
       "    <tr>\n",
       "      <th>0</th>\n",
       "      <td>1.555000</td>\n",
       "      <td>2016-08-24</td>\n",
       "    </tr>\n",
       "    <tr>\n",
       "      <th>1</th>\n",
       "      <td>0.077143</td>\n",
       "      <td>2016-08-25</td>\n",
       "    </tr>\n",
       "    <tr>\n",
       "      <th>2</th>\n",
       "      <td>0.016667</td>\n",
       "      <td>2016-08-26</td>\n",
       "    </tr>\n",
       "    <tr>\n",
       "      <th>3</th>\n",
       "      <td>0.064000</td>\n",
       "      <td>2016-08-27</td>\n",
       "    </tr>\n",
       "    <tr>\n",
       "      <th>4</th>\n",
       "      <td>0.516667</td>\n",
       "      <td>2016-08-28</td>\n",
       "    </tr>\n",
       "    <tr>\n",
       "      <th>...</th>\n",
       "      <td>...</td>\n",
       "      <td>...</td>\n",
       "    </tr>\n",
       "    <tr>\n",
       "      <th>360</th>\n",
       "      <td>0.030000</td>\n",
       "      <td>2017-08-19</td>\n",
       "    </tr>\n",
       "    <tr>\n",
       "      <th>361</th>\n",
       "      <td>0.005000</td>\n",
       "      <td>2017-08-20</td>\n",
       "    </tr>\n",
       "    <tr>\n",
       "      <th>362</th>\n",
       "      <td>0.193333</td>\n",
       "      <td>2017-08-21</td>\n",
       "    </tr>\n",
       "    <tr>\n",
       "      <th>363</th>\n",
       "      <td>0.166667</td>\n",
       "      <td>2017-08-22</td>\n",
       "    </tr>\n",
       "    <tr>\n",
       "      <th>364</th>\n",
       "      <td>0.132500</td>\n",
       "      <td>2017-08-23</td>\n",
       "    </tr>\n",
       "  </tbody>\n",
       "</table>\n",
       "<p>365 rows × 2 columns</p>\n",
       "</div>"
      ],
      "text/plain": [
       "         prcp        Date\n",
       "0    1.555000  2016-08-24\n",
       "1    0.077143  2016-08-25\n",
       "2    0.016667  2016-08-26\n",
       "3    0.064000  2016-08-27\n",
       "4    0.516667  2016-08-28\n",
       "..        ...         ...\n",
       "360  0.030000  2017-08-19\n",
       "361  0.005000  2017-08-20\n",
       "362  0.193333  2017-08-21\n",
       "363  0.166667  2017-08-22\n",
       "364  0.132500  2017-08-23\n",
       "\n",
       "[365 rows x 2 columns]"
      ]
     },
     "execution_count": 14,
     "metadata": {},
     "output_type": "execute_result"
    }
   ],
   "source": [
    "# Convert your results into a pandas DataFrame with date as index.\n",
    "prcp_df = pd.DataFrame(prcp, columns = ['prcp', 'Date'])\n",
    "prcp_df"
   ]
  },
  {
   "cell_type": "code",
   "execution_count": 15,
   "metadata": {},
   "outputs": [
    {
     "data": {
      "text/plain": [
       "<AxesSubplot:>"
      ]
     },
     "execution_count": 15,
     "metadata": {},
     "output_type": "execute_result"
    },
    {
     "data": {
      "image/png": "[encoded data removed]",
      "text/plain": [
       "<Figure size 432x288 with 1 Axes>"
      ]
     },
     "metadata": {},
     "output_type": "display_data"
    }
   ],
   "source": [
    "# Use Pandas Plotting with Matplotlib to plot the data\n",
    "prcp_df.plot()"
   ]
  },
  {
   "cell_type": "code",
   "execution_count": 16,
   "metadata": {},
   "outputs": [
    {
     "data": {
      "text/html": [
       "<div>\n",
       "<style scoped>\n",
       "    .dataframe tbody tr th:only-of-type {\n",
       "        vertical-align: middle;\n",
       "    }\n",
       "\n",
       "    .dataframe tbody tr th {\n",
       "        vertical-align: top;\n",
       "    }\n",
       "\n",
       "    .dataframe thead th {\n",
       "        text-align: right;\n",
       "    }\n",
       "</style>\n",
       "<table border=\"1\" class=\"dataframe\">\n",
       "  <thead>\n",
       "    <tr style=\"text-align: right;\">\n",
       "      <th></th>\n",
       "      <th>prcp</th>\n",
       "    </tr>\n",
       "  </thead>\n",
       "  <tbody>\n",
       "    <tr>\n",
       "      <th>count</th>\n",
       "      <td>365.000000</td>\n",
       "    </tr>\n",
       "    <tr>\n",
       "      <th>mean</th>\n",
       "      <td>0.169987</td>\n",
       "    </tr>\n",
       "    <tr>\n",
       "      <th>std</th>\n",
       "      <td>0.295722</td>\n",
       "    </tr>\n",
       "    <tr>\n",
       "      <th>min</th>\n",
       "      <td>0.000000</td>\n",
       "    </tr>\n",
       "    <tr>\n",
       "      <th>25%</th>\n",
       "      <td>0.008571</td>\n",
       "    </tr>\n",
       "    <tr>\n",
       "      <th>50%</th>\n",
       "      <td>0.070000</td>\n",
       "    </tr>\n",
       "    <tr>\n",
       "      <th>75%</th>\n",
       "      <td>0.191667</td>\n",
       "    </tr>\n",
       "    <tr>\n",
       "      <th>max</th>\n",
       "      <td>2.380000</td>\n",
       "    </tr>\n",
       "  </tbody>\n",
       "</table>\n",
       "</div>"
      ],
      "text/plain": [
       "             prcp\n",
       "count  365.000000\n",
       "mean     0.169987\n",
       "std      0.295722\n",
       "min      0.000000\n",
       "25%      0.008571\n",
       "50%      0.070000\n",
       "75%      0.191667\n",
       "max      2.380000"
      ]
     },
     "execution_count": 16,
     "metadata": {},
     "output_type": "execute_result"
    }
   ],
   "source": [
    "# Use Pandas to calculate the summary statistics for the precipitation data\n",
    "summary = prcp_df.describe()\n",
    "summary"
   ]
  },
  {
   "cell_type": "markdown",
   "metadata": {},
   "source": [
    "# Exploratory Station Analysis"
   ]
  },
  {
   "cell_type": "code",
   "execution_count": 28,
   "metadata": {
    "scrolled": true
   },
   "outputs": [
    {
     "data": {
      "text/plain": [
       "9"
      ]
     },
     "execution_count": 28,
     "metadata": {},
     "output_type": "execute_result"
    }
   ],
   "source": [
    "# Query total number of stations in dataset\n",
    "stations_count = session.query(Station.id).count()\n",
    "stations_count"
   ]
  },
  {
   "cell_type": "code",
   "execution_count": 18,
   "metadata": {
    "scrolled": false
   },
   "outputs": [
    {
     "data": {
      "text/plain": [
       "[('USC00519281', 2772),\n",
       " ('USC00519397', 2724),\n",
       " ('USC00513117', 2709),\n",
       " ('USC00519523', 2669),\n",
       " ('USC00516128', 2612),\n",
       " ('USC00514830', 2202),\n",
       " ('USC00511918', 1979),\n",
       " ('USC00517948', 1372),\n",
       " ('USC00518838', 511)]"
      ]
     },
     "execution_count": 18,
     "metadata": {},
     "output_type": "execute_result"
    }
   ],
   "source": [
    "# What are the most active stations? (i.e. what stations have the most rows)?\n",
    "# List the stations and the counts in descending order.\n",
    "\n",
    "\n",
    "active = session.query(Measurement.station, func.count(Measurement.tobs)).\\\n",
    "group_by(Measurement.station).order_by(func.count(Measurement.tobs).desc()).all()\n",
    "active"
   ]
  },
  {
   "cell_type": "code",
   "execution_count": 19,
   "metadata": {},
   "outputs": [
    {
     "data": {
      "text/plain": [
       "'USC00519281'"
      ]
     },
     "execution_count": 19,
     "metadata": {},
     "output_type": "execute_result"
    }
   ],
   "source": [
    "most_active = active[0][0]\n",
    "most_active"
   ]
  },
  {
   "cell_type": "code",
   "execution_count": 42,
   "metadata": {},
   "outputs": [
    {
     "name": "stdout",
     "output_type": "stream",
     "text": [
      "53.0\n",
      "87.0\n",
      "73.09795396419437\n"
     ]
    }
   ],
   "source": [
    "# Using the station id from the previous query, calculate the lowest, \n",
    "# highest, and average temperature recorded for this station.\n",
    "low_temp = session.query(func.min(Measurement.tobs)).filter(Station.station.like('USC00519281')).scalar()\n",
    "print(low_temp)\n",
    "high_temp = session.query(func.max(Measurement.tobs)).filter(Station.station.like('USC00519281')).scalar()\n",
    "print(high_temp)\n",
    "avg_temp = session.query(func.avg(Measurement.tobs)).filter(Station.station.like('USC00519281')).scalar()\n",
    "print(avg_temp)"
   ]
  },
  {
   "cell_type": "code",
   "execution_count": 47,
   "metadata": {},
   "outputs": [],
   "source": [
    "# Query the last 12 months of temperature observation data for this station.\n",
    "# Plot the results as a histogram with bins = 12.\n",
    "temperature = session.query(Measurement.station, Measurement.tobs, Measurement.date).\\\n",
    "                filter(Measurement.station == most_active).\\\n",
    "                filter(Measurement.date <= recent_time).\\\n",
    "                filter(Measurement.date >= begin_time).\\\n",
    "                order_by(Measurement.date).all()\n"
   ]
  },
  {
   "cell_type": "code",
   "execution_count": 50,
   "metadata": {},
   "outputs": [
    {
     "data": {
      "text/html": [
       "<div>\n",
       "<style scoped>\n",
       "    .dataframe tbody tr th:only-of-type {\n",
       "        vertical-align: middle;\n",
       "    }\n",
       "\n",
       "    .dataframe tbody tr th {\n",
       "        vertical-align: top;\n",
       "    }\n",
       "\n",
       "    .dataframe thead th {\n",
       "        text-align: right;\n",
       "    }\n",
       "</style>\n",
       "<table border=\"1\" class=\"dataframe\">\n",
       "  <thead>\n",
       "    <tr style=\"text-align: right;\">\n",
       "      <th></th>\n",
       "      <th>0</th>\n",
       "      <th>1</th>\n",
       "      <th>2</th>\n",
       "    </tr>\n",
       "  </thead>\n",
       "  <tbody>\n",
       "    <tr>\n",
       "      <th>0</th>\n",
       "      <td>USC00519281</td>\n",
       "      <td>77.0</td>\n",
       "      <td>2016-08-24</td>\n",
       "    </tr>\n",
       "    <tr>\n",
       "      <th>1</th>\n",
       "      <td>USC00519281</td>\n",
       "      <td>80.0</td>\n",
       "      <td>2016-08-25</td>\n",
       "    </tr>\n",
       "    <tr>\n",
       "      <th>2</th>\n",
       "      <td>USC00519281</td>\n",
       "      <td>80.0</td>\n",
       "      <td>2016-08-26</td>\n",
       "    </tr>\n",
       "    <tr>\n",
       "      <th>3</th>\n",
       "      <td>USC00519281</td>\n",
       "      <td>75.0</td>\n",
       "      <td>2016-08-27</td>\n",
       "    </tr>\n",
       "    <tr>\n",
       "      <th>4</th>\n",
       "      <td>USC00519281</td>\n",
       "      <td>73.0</td>\n",
       "      <td>2016-08-28</td>\n",
       "    </tr>\n",
       "    <tr>\n",
       "      <th>...</th>\n",
       "      <td>...</td>\n",
       "      <td>...</td>\n",
       "      <td>...</td>\n",
       "    </tr>\n",
       "    <tr>\n",
       "      <th>346</th>\n",
       "      <td>USC00519281</td>\n",
       "      <td>77.0</td>\n",
       "      <td>2017-08-14</td>\n",
       "    </tr>\n",
       "    <tr>\n",
       "      <th>347</th>\n",
       "      <td>USC00519281</td>\n",
       "      <td>77.0</td>\n",
       "      <td>2017-08-15</td>\n",
       "    </tr>\n",
       "    <tr>\n",
       "      <th>348</th>\n",
       "      <td>USC00519281</td>\n",
       "      <td>76.0</td>\n",
       "      <td>2017-08-16</td>\n",
       "    </tr>\n",
       "    <tr>\n",
       "      <th>349</th>\n",
       "      <td>USC00519281</td>\n",
       "      <td>76.0</td>\n",
       "      <td>2017-08-17</td>\n",
       "    </tr>\n",
       "    <tr>\n",
       "      <th>350</th>\n",
       "      <td>USC00519281</td>\n",
       "      <td>79.0</td>\n",
       "      <td>2017-08-18</td>\n",
       "    </tr>\n",
       "  </tbody>\n",
       "</table>\n",
       "<p>351 rows × 3 columns</p>\n",
       "</div>"
      ],
      "text/plain": [
       "               0     1           2\n",
       "0    USC00519281  77.0  2016-08-24\n",
       "1    USC00519281  80.0  2016-08-25\n",
       "2    USC00519281  80.0  2016-08-26\n",
       "3    USC00519281  75.0  2016-08-27\n",
       "4    USC00519281  73.0  2016-08-28\n",
       "..           ...   ...         ...\n",
       "346  USC00519281  77.0  2017-08-14\n",
       "347  USC00519281  77.0  2017-08-15\n",
       "348  USC00519281  76.0  2017-08-16\n",
       "349  USC00519281  76.0  2017-08-17\n",
       "350  USC00519281  79.0  2017-08-18\n",
       "\n",
       "[351 rows x 3 columns]"
      ]
     },
     "execution_count": 50,
     "metadata": {},
     "output_type": "execute_result"
    }
   ],
   "source": [
    "temp_df = pd.DataFrame(temperature)\n",
    "temp_df"
   ]
  },
  {
   "cell_type": "code",
   "execution_count": 55,
   "metadata": {},
   "outputs": [
    {
     "data": {
      "image/png": "[encoded data removed]",
      "text/plain": [
       "<Figure size 432x288 with 1 Axes>"
      ]
     },
     "metadata": {},
     "output_type": "display_data"
    }
   ],
   "source": [
    "temp_plot = temp_df.plot.hist(bins=12, alpha = 0.75, color = 'b')"
   ]
  },
  {
   "cell_type": "markdown",
   "metadata": {},
   "source": [
    "# Close session"
   ]
  },
  {
   "cell_type": "code",
   "execution_count": null,
   "metadata": {},
   "outputs": [],
   "source": [
    "session.close()"
   ]
  }
 ],
 "metadata": {
  "finalized": {
   "timestamp": 1622725208764,
   "trusted": false
  },
  "kernel_info": {
   "name": "python3"
  },
  "kernelspec": {
   "display_name": "Python 3 (ipykernel)",
   "language": "python",
   "name": "python3"
  },
  "language_info": {
   "codemirror_mode": {
    "name": "ipython",
    "version": 3
   },
   "file_extension": ".py",
   "mimetype": "text/x-python",
   "name": "python",
   "nbconvert_exporter": "python",
   "pygments_lexer": "ipython3",
   "version": "3.8.5"
  },
  "nteract": {
   "version": "0.12.3"
  },
  "toc": {
   "base_numbering": 1,
   "nav_menu": {},
   "number_sections": true,
   "sideBar": true,
   "skip_h1_title": false,
   "title_cell": "Table of Contents",
   "title_sidebar": "Contents",
   "toc_cell": false,
   "toc_position": {},
   "toc_section_display": true,
   "toc_window_display": false
  },
  "varInspector": {
   "cols": {
    "lenName": 16,
    "lenType": 16,
    "lenVar": 40
   },
   "kernels_config": {
    "python": {
     "delete_cmd_postfix": "",
     "delete_cmd_prefix": "del ",
     "library": "var_list.py",
     "varRefreshCmd": "print(var_dic_list())"
    },
    "r": {
     "delete_cmd_postfix": ") ",
     "delete_cmd_prefix": "rm(",
     "library": "var_list.r",
     "varRefreshCmd": "cat(var_dic_list()) "
    }
   },
   "types_to_exclude": [
    "module",
    "function",
    "builtin_function_or_method",
    "instance",
    "_Feature"
   ],
   "window_display": false
  }
 },
 "nbformat": 4,
 "nbformat_minor": 2
}
